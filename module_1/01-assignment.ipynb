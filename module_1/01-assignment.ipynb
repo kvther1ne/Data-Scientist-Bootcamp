{
 "cells": [
  {
   "cell_type": "markdown",
   "id": "c2d747fe-7b74-43e0-95b3-16525e9846ac",
   "metadata": {},
   "source": [
    "## Task 1"
   ]
  },
  {
   "attachments": {},
   "cell_type": "markdown",
   "id": "685b3747-2ce6-434d-8969-a91baddbf85a",
   "metadata": {},
   "source": [
    "This program computes roots of a quadratic equation when coefficients a, b and c are known"
   ]
  },
  {
   "cell_type": "code",
   "execution_count": 2,
   "id": "03b8b371-870b-42cc-8f53-1e8596406894",
   "metadata": {},
   "outputs": [
    {
     "name": "stdout",
     "output_type": "stream",
     "text": [
      "(-0.2, 1.0)\n"
     ]
    }
   ],
   "source": [
    "import math\n",
    "def quadratic_equation(a, b, c):\n",
    "    ans = tuple()\n",
    "    if a == 0:\n",
    "        if b != 0:\n",
    "            return(-c/b,)\n",
    "        if b == 0 and c == 0:\n",
    "            return('inf')\n",
    "    else :\n",
    "        disc = b**2 - 4*a*c\n",
    "        if disc > 0:\n",
    "            x_1 = (-b + math.sqrt(disc)) / (2*a)\n",
    "            x_2 = (-b - math.sqrt(disc)) / (2*a)\n",
    "            return(x_1, x_2)\n",
    "        elif disc == 0:\n",
    "            x = (-b)/2*a\n",
    "            return(x,)\n",
    "        else:\n",
    "            return('None')\n",
    "    pass\n",
    "m_tuple = quadratic_equation(-5,4,1)\n",
    "print(m_tuple)"
   ]
  },
  {
   "cell_type": "markdown",
   "id": "a8541146-f127-4482-b067-279d50975dac",
   "metadata": {},
   "source": [
    "## Task 2"
   ]
  },
  {
   "attachments": {},
   "cell_type": "markdown",
   "id": "816c48be-0963-4bd6-bd86-c8172eb8968e",
   "metadata": {},
   "source": [
    "Implementing the Bubble Sort Algorithm"
   ]
  },
  {
   "cell_type": "code",
   "execution_count": 56,
   "id": "3fbaf6b3-876f-4ecf-9be6-d26181ee3a48",
   "metadata": {},
   "outputs": [
    {
     "name": "stdout",
     "output_type": "stream",
     "text": [
      "[12, 19, 37, 62, 63, 67, 69, 71, 80, 90]\n"
     ]
    }
   ],
   "source": [
    "def bubble_sort(lst):\n",
    "    for i in range(len(lst) - 1):\n",
    "        for j in range(len(lst) - i - 1):\n",
    "            if lst[j] > lst[j+1]:\n",
    "                lst[j], lst[j+1] = lst[j+1], lst[j]\n",
    "    return(lst)\n",
    "    pass\n",
    "list = [63, 80, 62, 69, 71, 37, 12, 90, 19, 67]\n",
    "print(bubble_sort(list))"
   ]
  },
  {
   "cell_type": "markdown",
   "id": "0026496c-03a8-4fcc-907b-dfb8f3fc0efb",
   "metadata": {},
   "source": [
    "## Task 3"
   ]
  },
  {
   "attachments": {},
   "cell_type": "markdown",
   "id": "688251be-39a3-49ed-9993-a5f9b39f430d",
   "metadata": {},
   "source": [
    "The most frequent word in the novel \"War and Peace\" without:\n",
    "   * Punctuation\n",
    "   * Words shorter than 4 characters\n",
    "   * Stop-words from stop_words_russian.txt"
   ]
  },
  {
   "cell_type": "code",
   "execution_count": 57,
   "id": "94501d71-ee88-4f78-808d-20e79a5f3707",
   "metadata": {
    "tags": []
   },
   "outputs": [
    {
     "name": "stdout",
     "output_type": "stream",
     "text": [
      "князь 1205\n"
     ]
    }
   ],
   "source": [
    "import string\n",
    "with open('../datasets/war_and_peace.txt') as fin:\n",
    "    wwp_words = fin.read()\n",
    "wwp_words = wwp_words.lower().split()\n",
    "\n",
    "with open('../datasets/stop_words_russian.txt') as stop:\n",
    "    stop_words = stop.read()\n",
    "stop_words = stop_words.splitlines()\n",
    "\n",
    "dict_w = {}\n",
    "lst = []\n",
    "\n",
    "for word in wwp_words:\n",
    "    if not word in stop_words:\n",
    "        if not word in string.punctuation:\n",
    "            if len(word) > 4:\n",
    "                lst.append(word)\n",
    "for word in lst:\n",
    "    dict_w[word] = dict_w.get(word, 0) + 1\n",
    "max_value = max(dict_w.values())\n",
    "\n",
    "for k, v in dict_w.items():\n",
    "    if v == max_value:\n",
    "        print(k, v)"
   ]
  },
  {
   "cell_type": "markdown",
   "id": "d4b6f922-7a22-4b38-8529-c92994edd38c",
   "metadata": {},
   "source": [
    "## Task 4"
   ]
  },
  {
   "attachments": {},
   "cell_type": "markdown",
   "id": "c2cef602-ab87-47f8-ab2c-e323442b62f7",
   "metadata": {},
   "source": [
    "Function for n-th Fibonacci number"
   ]
  },
  {
   "cell_type": "code",
   "execution_count": null,
   "id": "ec1c1860-774d-4583-a44b-bdc30492eead",
   "metadata": {},
   "outputs": [
    {
     "name": "stdout",
     "output_type": "stream",
     "text": [
      "55\n"
     ]
    }
   ],
   "source": [
    "def fib(n):\n",
    "    if n == 1 or n == 2:\n",
    "        return 1\n",
    "    return fib(n - 1) + fib(n - 2)\n",
    "    pass\n",
    "print(fib(10))"
   ]
  },
  {
   "cell_type": "markdown",
   "id": "1acc3069-4b1a-4a5c-98e4-055731203d2d",
   "metadata": {},
   "source": [
    "## Task 5"
   ]
  },
  {
   "attachments": {},
   "cell_type": "markdown",
   "id": "944e804e-fb40-4ea2-b931-38b595d3c262",
   "metadata": {},
   "source": [
    "Currency converter (USD, EUR, GBP to RUB)"
   ]
  },
  {
   "cell_type": "code",
   "execution_count": 4,
   "id": "570cfb71-5cf0-41fc-aae7-cf2b2812eaca",
   "metadata": {},
   "outputs": [
    {
     "name": "stdout",
     "output_type": "stream",
     "text": [
      "4987.736\n"
     ]
    }
   ],
   "source": [
    "import requests\n",
    "import json\n",
    "def convert2RU(currency, value):\n",
    "    r = requests.get('https://www.cbr-xml-daily.ru/daily_json.js')\n",
    "    currencies = json.loads(r.text)\n",
    "    if currency in currencies[\"Valute\"].keys():\n",
    "        return value * currencies[\"Valute\"][currency][\"Value\"]\n",
    "    \n",
    "print(convert2RU('EUR', 65))"
   ]
  }
 ],
 "metadata": {
  "kernelspec": {
   "display_name": "Python 3.11.1 64-bit",
   "language": "python",
   "name": "python3"
  },
  "language_info": {
   "codemirror_mode": {
    "name": "ipython",
    "version": 3
   },
   "file_extension": ".py",
   "mimetype": "text/x-python",
   "name": "python",
   "nbconvert_exporter": "python",
   "pygments_lexer": "ipython3",
   "version": "3.11.1"
  },
  "vscode": {
   "interpreter": {
    "hash": "aee8b7b246df8f9039afb4144a1f6fd8d2ca17a180786b69acc140d282b71a49"
   }
  }
 },
 "nbformat": 4,
 "nbformat_minor": 5
}
