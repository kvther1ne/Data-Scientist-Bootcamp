{
 "cells": [
  {
   "cell_type": "code",
   "execution_count": 2,
   "id": "de25621d-4eda-459b-a1da-2c21813eea1c",
   "metadata": {},
   "outputs": [],
   "source": [
    "import matplotlib.pyplot as plt"
   ]
  },
  {
   "cell_type": "markdown",
   "id": "35d995e1-34e1-450c-a88d-96104b2df726",
   "metadata": {},
   "source": [
    "## Task 1\n",
    "Using sympy, write your own function that takes a mathematical function y = $x^2 - x + 21$ as input and returns the derivative: $2𝑥−1$"
   ]
  },
  {
   "cell_type": "code",
   "execution_count": 3,
   "id": "937bdd38",
   "metadata": {},
   "outputs": [
    {
     "data": {
      "text/latex": [
       "$\\displaystyle 2 x - 1$"
      ],
      "text/plain": [
       "2*x - 1"
      ]
     },
     "execution_count": 3,
     "metadata": {},
     "output_type": "execute_result"
    }
   ],
   "source": [
    "import sympy\n",
    "from sympy import *\n",
    "\n",
    "x = Symbol('x')\n",
    "func = x**2 - x + 21\n",
    "diff(func)"
   ]
  },
  {
   "cell_type": "markdown",
   "id": "f0c49d13-79db-469a-be74-bd41777ef05a",
   "metadata": {},
   "source": [
    "## Task 2\n",
    "Write your own function that takes a mathematical function y = $ (x-y)^2 $ and the variable for which you want to calculate the partial derivative. The function should return the partial derivative of this variable: $2𝑥-2𝑦$."
   ]
  },
  {
   "cell_type": "code",
   "execution_count": 4,
   "id": "ee471645",
   "metadata": {},
   "outputs": [
    {
     "data": {
      "text/latex": [
       "$\\displaystyle 2 x - 2 y$"
      ],
      "text/plain": [
       "2*x - 2*y"
      ]
     },
     "execution_count": 4,
     "metadata": {},
     "output_type": "execute_result"
    }
   ],
   "source": [
    "x, y = symbols('x y')\n",
    "func = (x - y)**2\n",
    "diff(func, x)"
   ]
  },
  {
   "cell_type": "markdown",
   "id": "30c90ce8-7a46-4803-809a-fd037adeea44",
   "metadata": {},
   "source": [
    "## Task 3"
   ]
  },
  {
   "cell_type": "markdown",
   "id": "aea0c68c-85e2-4ec0-b748-7f9b3096e6d8",
   "metadata": {},
   "source": [
    "1. Write a mathematical function. Imagine you have y_true and you have y_pred. You need to calculate the square of the deviation of one from the other. And the predicted value is obtained using a linear regression function: y = wx +b. Additionally, divide all this by n.\n",
    "2. Write a Python function that takes as input function from (1). The function should return the partial derivatives of w and b."
   ]
  },
  {
   "cell_type": "code",
   "execution_count": 8,
   "id": "cc3a91e2",
   "metadata": {},
   "outputs": [
    {
     "data": {
      "text/plain": [
       "[-2*x*(-b - w*x + y_true)/n, (2*b + 2*w*x - 2*y_true)/n]"
      ]
     },
     "execution_count": 8,
     "metadata": {},
     "output_type": "execute_result"
    }
   ],
   "source": [
    "#1\n",
    "x, y, y_true, w, b, n = symbols('x y y_true w b n')\n",
    "\n",
    "y_pred = w*x + b\n",
    "func = ((y_true - y_pred) ** 2) / n\n",
    "\n",
    "#2\n",
    "def partial_deriv(f, w, b):\n",
    "    return [diff(f, w), diff(f, b)]\n",
    "\n",
    "#3\n",
    "partial_deriv(func, w, b)"
   ]
  },
  {
   "cell_type": "markdown",
   "id": "75ea75df-da98-4687-b921-47e1eb0b63cb",
   "metadata": {},
   "source": [
    "## Task 4\n",
    "1. Write a class `Gradient()` which will consist of several methods. The object receives two vectors during initialization: `X`, `Y`. Then the methods will access them inside the class.\n",
    "    - `predict`: it receives `w`, `b` as input, it outputs the predicted values `Y_pred`;\n",
    "    - `mse`: it inputs `Y_pred`, outputs the calculated MSE;\n",
    "    - `update`: on input it receives `Y_pred`, `w`, `b`; on output it gives new values `w`, `b` which have been updated due to the calculated gradients.\n",
    "2. Check the methods by feeding two vectors `X`, `Y` and initial parameters `w`, `b` to the required methods at the input of the class."
   ]
  },
  {
   "cell_type": "code",
   "execution_count": 14,
   "id": "b4bb1337-6f9c-49dc-bbc0-5952b12121ae",
   "metadata": {},
   "outputs": [],
   "source": [
    "import numpy as np\n",
    "X = np.array(\n",
    "    [32.50234527, 53.42680403, 61.53035803, 47.47563963, 59.81320787, 55.14218841, \n",
    "     52.21179669, 39.29956669, 48.10504169, 52.55001444, 45.41973014, 54.35163488, \n",
    "     44.1640495 , 58.16847072, 56.72720806, 48.95588857, 44.68719623, 60.29732685, \n",
    "     45.61864377, 38.81681754]\n",
    ")\n",
    "Y = np.array(\n",
    "    [31.70700585, 68.77759598, 62.5623823 , 71.54663223, 87.23092513, 78.21151827, \n",
    "     79.64197305, 59.17148932, 75.3312423 , 71.30087989, 55.16567715, 82.47884676, \n",
    "     62.00892325, 75.39287043, 81.43619216, 60.72360244, 82.89250373, 97.37989686, \n",
    "     48.84715332, 56.87721319]\n",
    ")"
   ]
  },
  {
   "cell_type": "code",
   "execution_count": 15,
   "id": "2b5a7a87-eb43-456f-adf3-add9b502e3e1",
   "metadata": {},
   "outputs": [
    {
     "data": {
      "image/png": "[encoded data removed]",
      "text/plain": [
       "<Figure size 640x480 with 1 Axes>"
      ]
     },
     "metadata": {},
     "output_type": "display_data"
    }
   ],
   "source": [
    "plt.scatter(X, Y);"
   ]
  },
  {
   "cell_type": "code",
   "execution_count": 32,
   "id": "99ad34a1-5c67-4430-84ad-dc77ac8b657f",
   "metadata": {},
   "outputs": [
    {
     "data": {
      "text/plain": [
       "1784.8517253411974"
      ]
     },
     "execution_count": 32,
     "metadata": {},
     "output_type": "execute_result"
    }
   ],
   "source": [
    "import numpy as np\n",
    "from sklearn import metrics\n",
    "\n",
    "step = 0.0002\n",
    "n = 20\n",
    "\n",
    "class Gradient:\n",
    "    def __init__(self, X, Y):\n",
    "        self.X = X\n",
    "        self.Y = Y\n",
    "        \n",
    "    def predict(self, w, b):  \n",
    "        Y_pred = w * self.X + b\n",
    "        return Y_pred\n",
    "    \n",
    "    def mse(self, Y_pred):\n",
    "        return metrics.mean_squared_error(self.Y, Y_pred)\n",
    "\n",
    "    def update(self, Y_pred, w, b):\n",
    "        w_temp = np.array([w * self.X + b])\n",
    "        part_w = -2 * np.dot(self.Y - Y_pred, self.X) / n\n",
    "        \n",
    "        part_b = -2 * (self.Y - Y_pred).sum() / n\n",
    "        \n",
    "        w_new = w - step * part_w\n",
    "        b_new = b - step * part_b\n",
    "        \n",
    "        return [w_new, b_new]\n",
    "        \n",
    "test = Gradient(X, Y)\n",
    "predict_y = test.predict(0.5, 4)\n",
    "test.mse(predict_y)"
   ]
  },
  {
   "cell_type": "code",
   "execution_count": 33,
   "id": "e8311b51",
   "metadata": {},
   "outputs": [
    {
     "data": {
      "text/plain": [
       "[<matplotlib.lines.Line2D at 0x12fbfc250>]"
      ]
     },
     "execution_count": 33,
     "metadata": {},
     "output_type": "execute_result"
    },
    {
     "data": {
      "image/png": "[encoded data removed]",
      "text/plain": [
       "<Figure size 640x480 with 1 Axes>"
      ]
     },
     "metadata": {},
     "output_type": "display_data"
    }
   ],
   "source": [
    "new = test.update(predict_y, 0.5, 4)\n",
    "plt.scatter(X, Y)\n",
    "plt.plot(X, X * new[0] + new[1])"
   ]
  },
  {
   "cell_type": "markdown",
   "id": "f2f68272-33ed-4c97-a97e-4216b1ab2ef4",
   "metadata": {},
   "source": [
    "## Task 5\n",
    "Improve the code so that the `optimize` method appears. It should iteratively go through some number of times updating values `w`, `b`, coming to the optimal value. Stopping criteria:\n",
    " - If the number of predefined iterations `num_iterations` has been exceeded;\n",
    " - if the new iteration produced a difference between the current error and the error of the previous iteration of a value smaller than `stopping_threshold`;\n",
    " - the method should return the final values of `w`, `b`, and `mse`."
   ]
  },
  {
   "cell_type": "code",
   "execution_count": 159,
   "id": "07200188-e4ff-4c8b-a2a7-42de3772f11a",
   "metadata": {},
   "outputs": [
    {
     "data": {
      "text/plain": [
       "(1.3115991091004235, 4.015587792053563, 99.29751520268579)"
      ]
     },
     "execution_count": 159,
     "metadata": {},
     "output_type": "execute_result"
    }
   ],
   "source": [
    "num_iterations = 2000\n",
    "stopping_threshold = 0.001\n",
    "learning_rate = 0.0001\n",
    "\n",
    "class GradientDescent(Gradient):\n",
    "    \n",
    "    def __init__(self, X, Y):\n",
    "        self.X = X\n",
    "        self.Y = Y\n",
    "        \n",
    "    def optimize(self, w, b):\n",
    "        err_old = self.mse(self.predict(w, b))\n",
    "        \n",
    "        for i in range(1, num_iterations):\n",
    "            part_w = -2 * np.dot(self.Y - w * self.X - b, self.X) / n\n",
    "            part_b = -2 * (self.Y - w * self.X - b).sum() / n\n",
    "            \n",
    "            w = w - learning_rate * part_w\n",
    "            b = b - learning_rate * part_b\n",
    "            \n",
    "            err_new = self.mse(self.predict(w, b))\n",
    "            \n",
    "            if err_old - err_new < stopping_threshold:\n",
    "                break\n",
    "            \n",
    "            err_old = err_new\n",
    "        \n",
    "        mse = self.mse(self.predict(w, b))\n",
    "        return w, b, mse\n",
    "        \n",
    "test1 = GradientDescent(X, Y)\n",
    "predict_y = test1.predict(0.5, 4)\n",
    "test1.optimize(0.5, 4)"
   ]
  }
 ],
 "metadata": {
  "kernelspec": {
   "display_name": "Python 3 (ipykernel)",
   "language": "python",
   "name": "python3"
  },
  "language_info": {
   "codemirror_mode": {
    "name": "ipython",
    "version": 3
   },
   "file_extension": ".py",
   "mimetype": "text/x-python",
   "name": "python",
   "nbconvert_exporter": "python",
   "pygments_lexer": "ipython3",
   "version": "3.9.13"
  }
 },
 "nbformat": 4,
 "nbformat_minor": 5
}
